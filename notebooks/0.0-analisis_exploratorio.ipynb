{
 "cells": [
  {
   "cell_type": "markdown",
   "source": [
    "### Carga de datos"
   ],
   "metadata": {
    "collapsed": false
   },
   "id": "7b8c4ddf11177e84"
  },
  {
   "cell_type": "code",
   "execution_count": 12,
   "id": "initial_id",
   "metadata": {
    "collapsed": true,
    "ExecuteTime": {
     "end_time": "2023-08-22T01:39:13.103370Z",
     "start_time": "2023-08-22T01:39:13.048123Z"
    }
   },
   "outputs": [],
   "source": [
    "import pandas as pd\n",
    "import os\n",
    "delitos = os.path.join('..', 'data', 'IDEFC_NM_jun23.csv')\n",
    "delitos_df=pd.read_csv(delitos, encoding='ISO-8859-1')\n",
    "edos = os.path.join('..', 'data', 'PoblacionEstado.csv')\n",
    "edos_df=pd.read_csv(edos)"
   ]
  },
  {
   "cell_type": "markdown",
   "source": [
    "Tamaño de los dataframe"
   ],
   "metadata": {
    "collapsed": false
   },
   "id": "3a9f859217e41b23"
  },
  {
   "cell_type": "code",
   "execution_count": 13,
   "outputs": [
    {
     "name": "stdout",
     "output_type": "stream",
     "text": [
      "(28224, 19) (32, 2)\n"
     ]
    }
   ],
   "source": [
    "print(delitos_df.shape, edos_df.shape)\n"
   ],
   "metadata": {
    "collapsed": false
   },
   "id": "fdc1eadcea84e4d8"
  },
  {
   "cell_type": "markdown",
   "source": [
    "Tipos de datos"
   ],
   "metadata": {
    "collapsed": false
   },
   "id": "401e30fcee35b224"
  },
  {
   "cell_type": "code",
   "execution_count": 24,
   "outputs": [
    {
     "name": "stdout",
     "output_type": "stream",
     "text": [
      "Año                         int64\n",
      "Clave_Ent                   int64\n",
      "Entidad                    object\n",
      "Bien jurídico afectado     object\n",
      "Tipo de delito             object\n",
      "Subtipo de delito          object\n",
      "Modalidad                  object\n",
      "Enero                       int64\n",
      "Febrero                     int64\n",
      "Marzo                       int64\n",
      "Abril                       int64\n",
      "Mayo                        int64\n",
      "Junio                       int64\n",
      "Julio                     float64\n",
      "Agosto                    float64\n",
      "Septiembre                float64\n",
      "Octubre                   float64\n",
      "Noviembre                 float64\n",
      "Diciembre                 float64\n",
      "dtype: object Entidad      object\n",
      "Población    object\n",
      "dtype: object\n"
     ]
    }
   ],
   "source": [
    "print( delitos_df.dtypes, edos_df.dtypes)"
   ],
   "metadata": {
    "collapsed": false,
    "ExecuteTime": {
     "end_time": "2023-08-22T01:43:28.915624Z",
     "start_time": "2023-08-22T01:43:28.907560Z"
    }
   },
   "id": "dca43304ca652a5d"
  },
  {
   "cell_type": "markdown",
   "source": [
    "### Tipos de delito"
   ],
   "metadata": {
    "collapsed": false
   },
   "id": "db886be464d06752"
  },
  {
   "cell_type": "code",
   "execution_count": 28,
   "outputs": [
    {
     "data": {
      "text/plain": "Tipo de delito\nRobo                                                                             10368\nHomicidio                                                                         2592\nLesiones                                                                          2592\nSecuestro                                                                         1440\nFeminicidio                                                                       1152\nNarcomenudeo                                                                       288\nViolencia de género en todas sus modalidades distinta a la violencia familiar      288\nIncumplimiento de obligaciones de asistencia familiar                              288\nOtros delitos contra la familia                                                    288\nCorrupción de menores                                                              288\nTrata de personas                                                                  288\nOtros delitos contra la sociedad                                                   288\nAmenazas                                                                           288\nOtros delitos contra el patrimonio                                                 288\nAllanamiento de morada                                                             288\nEvasión de presos                                                                  288\nFalsedad                                                                           288\nFalsificación                                                                      288\nContra el medio ambiente                                                           288\nDelitos cometidos por servidores públicos                                          288\nElectorales                                                                        288\nViolencia familiar                                                                 288\nDaño a la propiedad                                                                288\nDespojo                                                                            288\nAcoso sexual                                                                       288\nAborto                                                                             288\nOtros delitos que atentan contra la vida y la integridad corporal                  288\nTráfico de menores                                                                 288\nRapto                                                                              288\nOtros delitos que atentan contra la libertad personal                              288\nAbuso sexual                                                                       288\nHostigamiento sexual                                                               288\nExtorsión                                                                          288\nViolación simple                                                                   288\nViolación equiparada                                                               288\nIncesto                                                                            288\nOtros delitos que atentan contra la libertad y la seguridad sexual                 288\nFraude                                                                             288\nAbuso de confianza                                                                 288\nOtros delitos del Fuero Común                                                      288\nName: count, dtype: int64"
     },
     "execution_count": 28,
     "metadata": {},
     "output_type": "execute_result"
    }
   ],
   "source": [
    "conteo_valores = delitos_df['Tipo de delito'].value_counts()\n",
    "conteo_valores"
   ],
   "metadata": {
    "collapsed": false,
    "ExecuteTime": {
     "end_time": "2023-08-22T07:07:09.564508Z",
     "start_time": "2023-08-22T07:07:09.538688Z"
    }
   },
   "id": "3aa347e25e4d06aa"
  },
  {
   "cell_type": "code",
   "execution_count": 26,
   "outputs": [
    {
     "data": {
      "text/plain": "        Año  Clave_Ent         Entidad  \\\n0      2015          1  Aguascalientes   \n1      2015          1  Aguascalientes   \n2      2015          1  Aguascalientes   \n3      2015          1  Aguascalientes   \n4      2015          1  Aguascalientes   \n...     ...        ...             ...   \n28219  2023         32       Zacatecas   \n28220  2023         32       Zacatecas   \n28221  2023         32       Zacatecas   \n28222  2023         32       Zacatecas   \n28223  2023         32       Zacatecas   \n\n                                  Bien jurídico afectado  \\\n0                       La vida y la Integridad corporal   \n1                       La vida y la Integridad corporal   \n2                       La vida y la Integridad corporal   \n3                       La vida y la Integridad corporal   \n4                       La vida y la Integridad corporal   \n...                                                  ...   \n28219  Otros bienes jurídicos afectados (del fuero co...   \n28220  Otros bienes jurídicos afectados (del fuero co...   \n28221  Otros bienes jurídicos afectados (del fuero co...   \n28222  Otros bienes jurídicos afectados (del fuero co...   \n28223  Otros bienes jurídicos afectados (del fuero co...   \n\n                                  Tipo de delito  \\\n0                                      Homicidio   \n1                                      Homicidio   \n2                                      Homicidio   \n3                                      Homicidio   \n4                                      Homicidio   \n...                                          ...   \n28219                              Falsificación   \n28220                   Contra el medio ambiente   \n28221  Delitos cometidos por servidores públicos   \n28222                                Electorales   \n28223              Otros delitos del Fuero Común   \n\n                               Subtipo de delito  \\\n0                               Homicidio doloso   \n1                               Homicidio doloso   \n2                               Homicidio doloso   \n3                               Homicidio doloso   \n4                              Homicidio culposo   \n...                                          ...   \n28219                              Falsificación   \n28220                   Contra el medio ambiente   \n28221  Delitos cometidos por servidores públicos   \n28222                                Electorales   \n28223              Otros delitos del Fuero Común   \n\n                                       Modalidad  Enero  Febrero  Marzo  \\\n0                              Con arma de fuego      3        0      2   \n1                                Con arma blanca      1        1      0   \n2                              Con otro elemento      0        0      2   \n3                                No especificado      2        0      0   \n4                              Con arma de fuego      0        0      0   \n...                                          ...    ...      ...    ...   \n28219                              Falsificación     15        7     11   \n28220                   Contra el medio ambiente      0        1      0   \n28221  Delitos cometidos por servidores públicos     16       20     27   \n28222                                Electorales      0        0      0   \n28223              Otros delitos del Fuero Común    152      140    193   \n\n       Abril  Mayo  Junio  Julio  Agosto  Septiembre  Octubre  Noviembre  \\\n0          1     1      1    2.0     1.0         2.0      2.0        2.0   \n1          0     0      1    0.0     1.0         0.0      0.0        0.0   \n2          2     3      2    0.0     1.0         2.0      0.0        0.0   \n3          1     0      0    0.0     0.0         0.0      0.0        0.0   \n4          0     1      0    0.0     0.0         0.0      0.0        0.0   \n...      ...   ...    ...    ...     ...         ...      ...        ...   \n28219     10     6      9    NaN     NaN         NaN      NaN        NaN   \n28220      0     1      2    NaN     NaN         NaN      NaN        NaN   \n28221     23    25     33    NaN     NaN         NaN      NaN        NaN   \n28222      2     0      1    NaN     NaN         NaN      NaN        NaN   \n28223    183   240    207    NaN     NaN         NaN      NaN        NaN   \n\n       Diciembre  \n0            1.0  \n1            1.0  \n2            0.0  \n3            0.0  \n4            0.0  \n...          ...  \n28219        NaN  \n28220        NaN  \n28221        NaN  \n28222        NaN  \n28223        NaN  \n\n[28224 rows x 19 columns]",
      "text/html": "<div>\n<style scoped>\n    .dataframe tbody tr th:only-of-type {\n        vertical-align: middle;\n    }\n\n    .dataframe tbody tr th {\n        vertical-align: top;\n    }\n\n    .dataframe thead th {\n        text-align: right;\n    }\n</style>\n<table border=\"1\" class=\"dataframe\">\n  <thead>\n    <tr style=\"text-align: right;\">\n      <th></th>\n      <th>Año</th>\n      <th>Clave_Ent</th>\n      <th>Entidad</th>\n      <th>Bien jurídico afectado</th>\n      <th>Tipo de delito</th>\n      <th>Subtipo de delito</th>\n      <th>Modalidad</th>\n      <th>Enero</th>\n      <th>Febrero</th>\n      <th>Marzo</th>\n      <th>Abril</th>\n      <th>Mayo</th>\n      <th>Junio</th>\n      <th>Julio</th>\n      <th>Agosto</th>\n      <th>Septiembre</th>\n      <th>Octubre</th>\n      <th>Noviembre</th>\n      <th>Diciembre</th>\n    </tr>\n  </thead>\n  <tbody>\n    <tr>\n      <th>0</th>\n      <td>2015</td>\n      <td>1</td>\n      <td>Aguascalientes</td>\n      <td>La vida y la Integridad corporal</td>\n      <td>Homicidio</td>\n      <td>Homicidio doloso</td>\n      <td>Con arma de fuego</td>\n      <td>3</td>\n      <td>0</td>\n      <td>2</td>\n      <td>1</td>\n      <td>1</td>\n      <td>1</td>\n      <td>2.0</td>\n      <td>1.0</td>\n      <td>2.0</td>\n      <td>2.0</td>\n      <td>2.0</td>\n      <td>1.0</td>\n    </tr>\n    <tr>\n      <th>1</th>\n      <td>2015</td>\n      <td>1</td>\n      <td>Aguascalientes</td>\n      <td>La vida y la Integridad corporal</td>\n      <td>Homicidio</td>\n      <td>Homicidio doloso</td>\n      <td>Con arma blanca</td>\n      <td>1</td>\n      <td>1</td>\n      <td>0</td>\n      <td>0</td>\n      <td>0</td>\n      <td>1</td>\n      <td>0.0</td>\n      <td>1.0</td>\n      <td>0.0</td>\n      <td>0.0</td>\n      <td>0.0</td>\n      <td>1.0</td>\n    </tr>\n    <tr>\n      <th>2</th>\n      <td>2015</td>\n      <td>1</td>\n      <td>Aguascalientes</td>\n      <td>La vida y la Integridad corporal</td>\n      <td>Homicidio</td>\n      <td>Homicidio doloso</td>\n      <td>Con otro elemento</td>\n      <td>0</td>\n      <td>0</td>\n      <td>2</td>\n      <td>2</td>\n      <td>3</td>\n      <td>2</td>\n      <td>0.0</td>\n      <td>1.0</td>\n      <td>2.0</td>\n      <td>0.0</td>\n      <td>0.0</td>\n      <td>0.0</td>\n    </tr>\n    <tr>\n      <th>3</th>\n      <td>2015</td>\n      <td>1</td>\n      <td>Aguascalientes</td>\n      <td>La vida y la Integridad corporal</td>\n      <td>Homicidio</td>\n      <td>Homicidio doloso</td>\n      <td>No especificado</td>\n      <td>2</td>\n      <td>0</td>\n      <td>0</td>\n      <td>1</td>\n      <td>0</td>\n      <td>0</td>\n      <td>0.0</td>\n      <td>0.0</td>\n      <td>0.0</td>\n      <td>0.0</td>\n      <td>0.0</td>\n      <td>0.0</td>\n    </tr>\n    <tr>\n      <th>4</th>\n      <td>2015</td>\n      <td>1</td>\n      <td>Aguascalientes</td>\n      <td>La vida y la Integridad corporal</td>\n      <td>Homicidio</td>\n      <td>Homicidio culposo</td>\n      <td>Con arma de fuego</td>\n      <td>0</td>\n      <td>0</td>\n      <td>0</td>\n      <td>0</td>\n      <td>1</td>\n      <td>0</td>\n      <td>0.0</td>\n      <td>0.0</td>\n      <td>0.0</td>\n      <td>0.0</td>\n      <td>0.0</td>\n      <td>0.0</td>\n    </tr>\n    <tr>\n      <th>...</th>\n      <td>...</td>\n      <td>...</td>\n      <td>...</td>\n      <td>...</td>\n      <td>...</td>\n      <td>...</td>\n      <td>...</td>\n      <td>...</td>\n      <td>...</td>\n      <td>...</td>\n      <td>...</td>\n      <td>...</td>\n      <td>...</td>\n      <td>...</td>\n      <td>...</td>\n      <td>...</td>\n      <td>...</td>\n      <td>...</td>\n      <td>...</td>\n    </tr>\n    <tr>\n      <th>28219</th>\n      <td>2023</td>\n      <td>32</td>\n      <td>Zacatecas</td>\n      <td>Otros bienes jurídicos afectados (del fuero co...</td>\n      <td>Falsificación</td>\n      <td>Falsificación</td>\n      <td>Falsificación</td>\n      <td>15</td>\n      <td>7</td>\n      <td>11</td>\n      <td>10</td>\n      <td>6</td>\n      <td>9</td>\n      <td>NaN</td>\n      <td>NaN</td>\n      <td>NaN</td>\n      <td>NaN</td>\n      <td>NaN</td>\n      <td>NaN</td>\n    </tr>\n    <tr>\n      <th>28220</th>\n      <td>2023</td>\n      <td>32</td>\n      <td>Zacatecas</td>\n      <td>Otros bienes jurídicos afectados (del fuero co...</td>\n      <td>Contra el medio ambiente</td>\n      <td>Contra el medio ambiente</td>\n      <td>Contra el medio ambiente</td>\n      <td>0</td>\n      <td>1</td>\n      <td>0</td>\n      <td>0</td>\n      <td>1</td>\n      <td>2</td>\n      <td>NaN</td>\n      <td>NaN</td>\n      <td>NaN</td>\n      <td>NaN</td>\n      <td>NaN</td>\n      <td>NaN</td>\n    </tr>\n    <tr>\n      <th>28221</th>\n      <td>2023</td>\n      <td>32</td>\n      <td>Zacatecas</td>\n      <td>Otros bienes jurídicos afectados (del fuero co...</td>\n      <td>Delitos cometidos por servidores públicos</td>\n      <td>Delitos cometidos por servidores públicos</td>\n      <td>Delitos cometidos por servidores públicos</td>\n      <td>16</td>\n      <td>20</td>\n      <td>27</td>\n      <td>23</td>\n      <td>25</td>\n      <td>33</td>\n      <td>NaN</td>\n      <td>NaN</td>\n      <td>NaN</td>\n      <td>NaN</td>\n      <td>NaN</td>\n      <td>NaN</td>\n    </tr>\n    <tr>\n      <th>28222</th>\n      <td>2023</td>\n      <td>32</td>\n      <td>Zacatecas</td>\n      <td>Otros bienes jurídicos afectados (del fuero co...</td>\n      <td>Electorales</td>\n      <td>Electorales</td>\n      <td>Electorales</td>\n      <td>0</td>\n      <td>0</td>\n      <td>0</td>\n      <td>2</td>\n      <td>0</td>\n      <td>1</td>\n      <td>NaN</td>\n      <td>NaN</td>\n      <td>NaN</td>\n      <td>NaN</td>\n      <td>NaN</td>\n      <td>NaN</td>\n    </tr>\n    <tr>\n      <th>28223</th>\n      <td>2023</td>\n      <td>32</td>\n      <td>Zacatecas</td>\n      <td>Otros bienes jurídicos afectados (del fuero co...</td>\n      <td>Otros delitos del Fuero Común</td>\n      <td>Otros delitos del Fuero Común</td>\n      <td>Otros delitos del Fuero Común</td>\n      <td>152</td>\n      <td>140</td>\n      <td>193</td>\n      <td>183</td>\n      <td>240</td>\n      <td>207</td>\n      <td>NaN</td>\n      <td>NaN</td>\n      <td>NaN</td>\n      <td>NaN</td>\n      <td>NaN</td>\n      <td>NaN</td>\n    </tr>\n  </tbody>\n</table>\n<p>28224 rows × 19 columns</p>\n</div>"
     },
     "execution_count": 26,
     "metadata": {},
     "output_type": "execute_result"
    }
   ],
   "source": [
    "delitos_df"
   ],
   "metadata": {
    "collapsed": false,
    "ExecuteTime": {
     "end_time": "2023-08-22T04:37:31.768518Z",
     "start_time": "2023-08-22T04:37:31.584409Z"
    }
   },
   "id": "ed0c5a39ce4f5fb2"
  },
  {
   "cell_type": "code",
   "execution_count": null,
   "outputs": [],
   "source": [],
   "metadata": {
    "collapsed": false
   },
   "id": "c55a4beb0ec4069"
  }
 ],
 "metadata": {
  "kernelspec": {
   "display_name": "Python 3",
   "language": "python",
   "name": "python3"
  },
  "language_info": {
   "codemirror_mode": {
    "name": "ipython",
    "version": 2
   },
   "file_extension": ".py",
   "mimetype": "text/x-python",
   "name": "python",
   "nbconvert_exporter": "python",
   "pygments_lexer": "ipython2",
   "version": "2.7.6"
  }
 },
 "nbformat": 4,
 "nbformat_minor": 5
}
